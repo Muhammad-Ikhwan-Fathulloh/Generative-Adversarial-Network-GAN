{
  "nbformat": 4,
  "nbformat_minor": 0,
  "metadata": {
    "colab": {
      "provenance": [],
      "authorship_tag": "ABX9TyPiKmKwhDAaavY0UWgY/JBV",
      "include_colab_link": true
    },
    "kernelspec": {
      "name": "python3",
      "display_name": "Python 3"
    },
    "language_info": {
      "name": "python"
    }
  },
  "cells": [
    {
      "cell_type": "markdown",
      "metadata": {
        "id": "view-in-github",
        "colab_type": "text"
      },
      "source": [
        "<a href=\"https://colab.research.google.com/github/Muhammad-Ikhwan-Fathulloh/Generative-Adversarial-Network-GAN/blob/main/Dataset.ipynb\" target=\"_parent\"><img src=\"https://colab.research.google.com/assets/colab-badge.svg\" alt=\"Open In Colab\"/></a>"
      ]
    },
    {
      "cell_type": "code",
      "source": [
        "import torch\n",
        "import torch.nn as nn\n",
        "import torch.optim as optim\n",
        "import numpy as np\n",
        "import matplotlib.pyplot as plt\n",
        "import matplotlib.gridspec as gridspec\n",
        "import os\n",
        "from torch.autograd import Variable\n",
        "from torchvision.datasets import ImageFolder\n",
        "from torchvision import transforms\n",
        "\n",
        "# Define data transforms\n",
        "transform = transforms.Compose([\n",
        "    transforms.Resize((64, 64)),  # Resize gambar ke ukuran yang diinginkan (misalnya 64x64)\n",
        "    transforms.ToTensor(),\n",
        "    transforms.Normalize((0.5, 0.5, 0.5), (0.5, 0.5, 0.5))  # Normalisasi nilai pixel\n",
        "])\n",
        "\n",
        "# Load dataset gambar wajah nyata dan palsu\n",
        "sdir_real = '/content/drive/MyDrive/Colab Notebooks/archive/real_and_fake_face/training_real'\n",
        "sdir_fake = '/content/drive/MyDrive/Colab Notebooks/archive/real_and_fake_face/training_fake'\n",
        "\n",
        "real_dataset = ImageFolder(root=sdir_real, transform=transform)\n",
        "fake_dataset = ImageFolder(root=sdir_fake, transform=transform)\n",
        "\n",
        "# Akses data dari dataset\n",
        "sample_real_image, _ = real_dataset[0]\n",
        "sample_fake_image, _ = fake_dataset[0]"
      ],
      "metadata": {
        "id": "XRtL7bJ-BX4C"
      },
      "execution_count": null,
      "outputs": []
    }
  ]
}